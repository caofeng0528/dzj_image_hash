{
 "cells": [
  {
   "cell_type": "code",
   "execution_count": 2,
   "id": "3588c4a7",
   "metadata": {},
   "outputs": [],
   "source": [
    "import cv2\n",
    "import numpy as np\n",
    "from PIL import Image\n",
    "import requests\n",
    "from io import BytesIO\n",
    "# import matplotlib\n",
    "import os\n",
    "# matplotlib.use('TkAgg')\n",
    "# import matplotlib.pyplot as plt\n",
    "\n",
    "def pHash(img):\n",
    "    # 感知哈希算法\n",
    "    # 缩放32*32\n",
    "    img = cv2.resize(img, (32, 32))   # , interpolation=cv2.INTER_CUBIC\n",
    " \n",
    "    # 转换为灰度图\n",
    "    gray = cv2.cvtColor(img, cv2.COLOR_BGR2GRAY)\n",
    "    # 将灰度图转为浮点型，再进行dct变换\n",
    "    dct = cv2.dct(np.float32(gray))\n",
    "    # opencv实现的掩码操作\n",
    "    dct_roi = dct[0:8, 0:8]\n",
    " \n",
    "    hash = []\n",
    "    avreage = np.mean(dct_roi)\n",
    "    for i in range(dct_roi.shape[0]):\n",
    "        for j in range(dct_roi.shape[1]):\n",
    "            if dct_roi[i, j] > avreage:\n",
    "                hash.append(1)\n",
    "            else:\n",
    "                hash.append(0)\n",
    "    return hash\n",
    "\n",
    "def cmpHash(hash1, hash2):\n",
    "    # Hash值对比\n",
    "    # 算法中1和0顺序组合起来的即是图片的指纹hash。顺序不固定，但是比较的时候必须是相同的顺序。\n",
    "    # 对比两幅图的指纹，计算汉明距离，即两个64位的hash值有多少是不一样的，不同的位数越小，图片越相似\n",
    "    # 汉明距离：一组二进制数据变成另一组数据所需要的步骤，可以衡量两图的差异，汉明距离越小，则相似度越高。汉明距离为0，即两张图片完全一样\n",
    "    n = 0\n",
    "    # hash长度不同则返回-1代表传参出错\n",
    "    if len(hash1) != len(hash2):\n",
    "        return -1\n",
    "    # 遍历判断\n",
    "    for i in range(len(hash1)):\n",
    "        # 不相等则n计数+1，n最终为相似度\n",
    "        if hash1[i] != hash2[i]:\n",
    "            n = n + 1\n",
    "    return n\n",
    " \n",
    "def getImageByUrl(url):\n",
    "    # 根据图片url 获取图片对象\n",
    "    html = requests.get(url, verify=False)\n",
    "    image = Image.open(BytesIO(html.content))\n",
    "    return image\n",
    "\n",
    "def runAllImageSimilaryFun(para1, para2):\n",
    "    # 均值、差值、感知哈希算法三种算法值越小，则越相似,相同图片值为0\n",
    "    # 三直方图算法和单通道的直方图 0-1之间，值越大，越相似。 相同图片为1\n",
    " \n",
    "    # t1,t2   14;19;10;  0.70;0.75\n",
    "    # t1,t3   39 33 18   0.58 0.49\n",
    "    # s1,s2  7 23 11     0.83 0.86  挺相似的图片\n",
    "    # c1,c2  11 29 17    0.30 0.31\n",
    " \n",
    "    if para1.startswith(\"http\"):\n",
    "         # 根据链接下载图片，并转换为opencv格式\n",
    "        img1 = getImageByUrl(para1)\n",
    "        img1 = cv2.cvtColor(np.asarray(img1), cv2.COLOR_RGB2BGR)\n",
    " \n",
    "        img2 = getImageByUrl(para2)\n",
    "        img2 = cv2.cvtColor(np.asarray(img2), cv2.COLOR_RGB2BGR)\n",
    "    else:\n",
    "        # 通过imread方法直接读取物理路径\n",
    "        img1 = cv2.imread(para1)\n",
    "        img2 = cv2.imread(para2)\n",
    " \n",
    " \n",
    "    hash1 = pHash(img1)\n",
    "    hash2 = pHash(img2)\n",
    "    n3 = cmpHash(hash1, hash2)\n",
    "    return n3\n",
    "#     if n3 >= 10:\n",
    "#         print('感知哈希算法相似度pHash：', n3)"
   ]
  },
  {
   "cell_type": "code",
   "execution_count": 3,
   "id": "90ecced7",
   "metadata": {
    "scrolled": false
   },
   "outputs": [
    {
     "name": "stdout",
     "output_type": "stream",
     "text": [
      "D:/image/dataset/image_test1/hg/hg. (1).jpg D:/image/dataset/image_test1/hg/hg. (12).jpg\n",
      "D:/image/dataset/image_test1/hg/hg. (1).jpg D:/image/dataset/image_test1/hg/hg. (6).png\n",
      "D:/image/dataset/image_test1/hg/hg. (1).jpg D:/image/dataset/image_test1/hg/hg. (61).jpg\n",
      "D:/image/dataset/image_test1/hg/hg. (10).jpg D:/image/dataset/image_test1/hg/hg. (68).jpg\n",
      "D:/image/dataset/image_test1/hg/hg. (11).jpg D:/image/dataset/image_test1/hg/hg. (61).jpg\n",
      "D:/image/dataset/image_test1/hg/hg. (12).jpg D:/image/dataset/image_test1/hg/hg. (61).jpg\n",
      "D:/image/dataset/image_test1/hg/hg. (12).jpg D:/image/dataset/image_test1/hg/hg. (68).jpg\n",
      "D:/image/dataset/image_test1/hg/hg. (13).jpg D:/image/dataset/image_test1/hg/hg. (61).jpg\n",
      "D:/image/dataset/image_test1/hg/hg. (13).jpg D:/image/dataset/image_test1/hg/hg. (68).jpg\n",
      "D:/image/dataset/image_test1/hg/hg. (5).jpg D:/image/dataset/image_test1/hg/hg. (61).jpg\n",
      "D:/image/dataset/image_test1/hg/hg. (5).jpg D:/image/dataset/image_test1/hg/hg. (68).jpg\n",
      "D:/image/dataset/image_test1/hg/hg. (5).png D:/image/dataset/image_test1/hg/hg. (68).jpg\n",
      "D:/image/dataset/image_test1/hg/hg. (53).jpg D:/image/dataset/image_test1/hg/hg. (68).jpg\n",
      "D:/image/dataset/image_test1/hg/hg. (6).png D:/image/dataset/image_test1/hg/hg. (61).jpg\n",
      "D:/image/dataset/image_test1/hg/hg. (6).png D:/image/dataset/image_test1/hg/hg. (68).jpg\n",
      "D:/image/dataset/image_test1/hg/hg. (61).jpg D:/image/dataset/image_test1/hg/hg. (62).jpg\n",
      "D:/image/dataset/image_test1/hg/hg. (61).jpg D:/image/dataset/image_test1/hg/hg. (63).jpg\n",
      "D:/image/dataset/image_test1/hg/hg. (61).jpg D:/image/dataset/image_test1/hg/hg. (68).jpg\n",
      "D:/image/dataset/image_test1/hg/hg. (61).jpg D:/image/dataset/image_test1/hg/hg. (8).jpg\n",
      "D:/image/dataset/image_test1/hg/hg. (62).jpg D:/image/dataset/image_test1/hg/hg. (68).jpg\n",
      "D:/image/dataset/image_test1/hg/hg. (63).jpg D:/image/dataset/image_test1/hg/hg. (68).jpg\n",
      "D:/image/dataset/image_test1/hg/hg. (68).jpg D:/image/dataset/image_test1/hg/hg. (9).jpg\n"
     ]
    }
   ],
   "source": [
    "path = \"D:/image/dataset/image_test1/hg/\"\n",
    "file_name = os.listdir(path)\n",
    "\n",
    "item_list =[] \n",
    "for item in file_name:\n",
    "    if item[-4:].lower() == '.jpg' or item[-4:].lower() == '.png' or item[-5:].lower() == '.jpeg':\n",
    "        item = path + item\n",
    "        item_list.append(item)\n",
    "\n",
    "        \n",
    "list_set = []\n",
    "for i in range(len(item_list)):\n",
    "    for j in range(i+1,len(item_list)):\n",
    "        list = [item_list[i],item_list[j]]\n",
    "        list_set.append(list)        \n",
    "\n",
    "if __name__ == \"__main__\":\n",
    "    for i in range(len(list_set)):\n",
    "        p1 = list_set[i][0]\n",
    "        p2 = list_set[i][1]\n",
    "        n3 = runAllImageSimilaryFun(p1,p2)\n",
    "        if n3 >= 10:\n",
    "            print(p1,p2)"
   ]
  },
  {
   "cell_type": "code",
   "execution_count": 52,
   "id": "c5c17d8e",
   "metadata": {
    "scrolled": true
   },
   "outputs": [
    {
     "name": "stdout",
     "output_type": "stream",
     "text": [
      "感知哈希算法相似度pHash： 9\n"
     ]
    }
   ],
   "source": [
    "if __name__ == \"__main__\":\n",
    "    p1=\"D:/image/dataset/image_test1/hg/hg. (1).jpg\"\n",
    "    p2=\"D:/image/dataset/image_test1/hg/hg. (5).jpg\"\n",
    "    runAllImageSimilaryFun(p1,p2)"
   ]
  }
 ],
 "metadata": {
  "kernelspec": {
   "display_name": "Python 3",
   "language": "python",
   "name": "python3"
  },
  "language_info": {
   "codemirror_mode": {
    "name": "ipython",
    "version": 3
   },
   "file_extension": ".py",
   "mimetype": "text/x-python",
   "name": "python",
   "nbconvert_exporter": "python",
   "pygments_lexer": "ipython3",
   "version": "3.8.10"
  }
 },
 "nbformat": 4,
 "nbformat_minor": 5
}
