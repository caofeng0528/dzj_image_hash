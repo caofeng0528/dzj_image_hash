{
 "cells": [
  {
   "cell_type": "code",
   "execution_count": 6,
   "id": "00bfc5ab",
   "metadata": {
    "scrolled": true
   },
   "outputs": [
    {
     "name": "stderr",
     "output_type": "stream",
     "text": [
      "C:\\Users\\User\\anaconda3\\lib\\site-packages\\urllib3\\connectionpool.py:1013: InsecureRequestWarning: Unverified HTTPS request is being made to host 'ww3.sinaimg.cn'. Adding certificate verification is strongly advised. See: https://urllib3.readthedocs.io/en/latest/advanced-usage.html#ssl-warnings\n",
      "  warnings.warn(\n",
      "C:\\Users\\User\\anaconda3\\lib\\site-packages\\urllib3\\connectionpool.py:1013: InsecureRequestWarning: Unverified HTTPS request is being made to host 'ww2.sinaimg.cn'. Adding certificate verification is strongly advised. See: https://urllib3.readthedocs.io/en/latest/advanced-usage.html#ssl-warnings\n",
      "  warnings.warn(\n"
     ]
    }
   ],
   "source": [
    "from simhash import Simhash\n",
    "import cv2\n",
    "import numpy as np\n",
    "from PIL import Image\n",
    "import requests\n",
    "from io import BytesIO\n",
    "import os\n",
    "\n",
    "def simhash_similarity(text1,text2):\n",
    "    \n",
    "    a_simhash = Simhash(text1)\n",
    "    b_simhash = Simhash(text2)\n",
    "    \n",
    "    max_hashbit = max(len(bin(a_simhash.value)),len(bin(b_simhash.value)))\n",
    "\n",
    "    distince = a_simhash.distance(b_simhash)\n",
    "\n",
    "    similar = round(distince/max_hashbit,2)\n",
    "\n",
    "def getImageByUrl(url):\n",
    "    # 根据图片url 获取图片对象\n",
    "    html = requests.get(url, verify=False)\n",
    "    image = Image.open(BytesIO(html.content))\n",
    "    return image\n",
    "\n",
    "        \n",
    "if __name__ == \"__main__\":\n",
    "    \n",
    "    p1=\"https://ww3.sinaimg.cn/bmiddle/007INInDly1g336j2zziwj30su0g848w.jpg\"\n",
    "    p2=\"https://ww2.sinaimg.cn/bmiddle/007INInDly1g336j10d32j30vd0hnam6.jpg\"\n",
    "\n",
    "    if p1.startswith(\"http\"):\n",
    "     # 根据链接下载图片，并转换为opencv格式\n",
    "        img1 = getImageByUrl(p1)\n",
    "        img1 = cv2.cvtColor(np.asarray(img1), cv2.COLOR_RGB2BGR)\n",
    "\n",
    "        img2 = getImageByUrl(p2)\n",
    "        img2 = cv2.cvtColor(np.asarray(img2), cv2.COLOR_RGB2BGR)\n",
    "    else:\n",
    "    # 通过imread方法直接读取物理路径\n",
    "        img1 = cv2.imread(para1)\n",
    "        img2 = cv2.imread(para2)\n",
    "\n",
    "        similars = simhash_similarity(img1,img2)\n",
    "        \n",
    "        similars"
   ]
  },
  {
   "cell_type": "code",
   "execution_count": 22,
   "id": "0d365070",
   "metadata": {},
   "outputs": [],
   "source": [
    "from PIL import Image\n",
    "import cv2\n",
    "import numpy as np\n",
    "import matplotlib.pyplot as plt\n",
    "\n",
    "def getImageByUrl(url):\n",
    "    # 根据图片url 获取图片对象\n",
    "    html = requests.get(url, verify=False)\n",
    "    image = Image.open(BytesIO(html.content))\n",
    "    return image\n",
    "\n",
    "def runAllImageSimilaryFun(para1, para2):\n",
    "    # 均值、差值、感知哈希算法三种算法值越小，则越相似,相同图片值为0\n",
    "    # 三直方图算法和单通道的直方图 0-1之间，值越大，越相似。 相同图片为1\n",
    " \n",
    "    # t1,t2   14;19;10;  0.70;0.75\n",
    "    # t1,t3   39 33 18   0.58 0.49\n",
    "    # s1,s2  7 23 11     0.83 0.86  挺相似的图片\n",
    "    # c1,c2  11 29 17    0.30 0.31\n",
    " \n",
    "    if para1.startswith(\"http\"):\n",
    "         # 根据链接下载图片，并转换为opencv格式\n",
    "        img1 = getImageByUrl(para1)\n",
    "        img1 = img1.resize((500,500))\n",
    "        gray1 = cv2.cvtColor(np.asarray(img1), cv2.COLOR_RGB2BGR)\n",
    " \n",
    "        img2 = getImageByUrl(para2)\n",
    "        img2 = img2.resize((500,500))\n",
    "        gray2 = cv2.cvtColor(np.asarray(img2), cv2.COLOR_RGB2BGR)\n",
    "    else:\n",
    "        # 通过imread方法直接读取物理路径\n",
    "        img1 = cv2.imread(para1)\n",
    "        img1 = cv2.resize(img1,(500,500))\n",
    "        gray1 = cv2.cvtColor(img1,cv2.COLOR_BGR2GRAY)\n",
    "        \n",
    "        img2 = cv2.imread(para2)\n",
    "        img2 = cv2.resize(img2,(500,500))\n",
    "        gray2 = cv2.cvtColor(img2,cv2.COLOR_BGR2GRAY)\n",
    "        \n",
    "    sift = cv2.xfeatures2d.SIFT_create()\n",
    "    kp = sift.detect(gray,None)  #搜索关键点\n",
    "#     print(gray1+gray2)"
   ]
  },
  {
   "cell_type": "code",
   "execution_count": 23,
   "id": "a9aa97d0",
   "metadata": {
    "scrolled": true
   },
   "outputs": [
    {
     "name": "stderr",
     "output_type": "stream",
     "text": [
      "C:\\Users\\User\\anaconda3\\lib\\site-packages\\urllib3\\connectionpool.py:1013: InsecureRequestWarning: Unverified HTTPS request is being made to host 'ww3.sinaimg.cn'. Adding certificate verification is strongly advised. See: https://urllib3.readthedocs.io/en/latest/advanced-usage.html#ssl-warnings\n",
      "  warnings.warn(\n",
      "C:\\Users\\User\\anaconda3\\lib\\site-packages\\urllib3\\connectionpool.py:1013: InsecureRequestWarning: Unverified HTTPS request is being made to host 'ww2.sinaimg.cn'. Adding certificate verification is strongly advised. See: https://urllib3.readthedocs.io/en/latest/advanced-usage.html#ssl-warnings\n",
      "  warnings.warn(\n"
     ]
    },
    {
     "name": "stdout",
     "output_type": "stream",
     "text": [
      "[[[106 105 108]\n",
      "  [107 106 109]\n",
      "  [108 107 110]\n",
      "  ...\n",
      "  [161 158 161]\n",
      "  [161 158 161]\n",
      "  [159 156 159]]\n",
      "\n",
      " [[106 105 108]\n",
      "  [107 106 109]\n",
      "  [108 107 110]\n",
      "  ...\n",
      "  [161 158 161]\n",
      "  [161 158 161]\n",
      "  [159 156 159]]\n",
      "\n",
      " [[106 105 108]\n",
      "  [107 106 109]\n",
      "  [108 107 110]\n",
      "  ...\n",
      "  [162 159 162]\n",
      "  [161 158 161]\n",
      "  [160 157 160]]\n",
      "\n",
      " ...\n",
      "\n",
      " [[114 129 169]\n",
      "  [112 129 169]\n",
      "  [116 132 173]\n",
      "  ...\n",
      "  [ 50  43  53]\n",
      "  [ 53  48  56]\n",
      "  [ 52  47  55]]\n",
      "\n",
      " [[108 123 162]\n",
      "  [106 120 162]\n",
      "  [107 123 165]\n",
      "  ...\n",
      "  [ 55  49  56]\n",
      "  [ 52  48  55]\n",
      "  [ 42  37  44]]\n",
      "\n",
      " [[105 121 159]\n",
      "  [104 117 159]\n",
      "  [104 119 162]\n",
      "  ...\n",
      "  [ 57  51  57]\n",
      "  [ 52  48  54]\n",
      "  [ 36  32  38]]]\n"
     ]
    }
   ],
   "source": [
    "if __name__ == \"__main__\":\n",
    "    p1=\"https://ww3.sinaimg.cn/bmiddle/007INInDly1g336j2zziwj30su0g848w.jpg\"\n",
    "    p2=\"https://ww2.sinaimg.cn/bmiddle/007INInDly1g336j10d32j30vd0hnam6.jpg\"\n",
    "    n = runAllImageSimilaryFun(p1,p2)"
   ]
  },
  {
   "cell_type": "code",
   "execution_count": 16,
   "id": "98866c94",
   "metadata": {
    "scrolled": true
   },
   "outputs": [
    {
     "name": "stderr",
     "output_type": "stream",
     "text": [
      "C:\\Users\\User\\anaconda3\\lib\\site-packages\\urllib3\\connectionpool.py:1013: InsecureRequestWarning: Unverified HTTPS request is being made to host 'ww3.sinaimg.cn'. Adding certificate verification is strongly advised. See: https://urllib3.readthedocs.io/en/latest/advanced-usage.html#ssl-warnings\n",
      "  warnings.warn(\n"
     ]
    }
   ],
   "source": [
    "from PIL import Image\n",
    "html = requests.get(\"https://ww3.sinaimg.cn/bmiddle/007INInDly1g336j2zziwj30su0g848w.jpg\", verify=False)\n",
    "image = Image.open(BytesIO(html.content))\n",
    "img1 = image.resize(image,(500,500))"
   ]
  },
  {
   "cell_type": "code",
   "execution_count": 47,
   "id": "38b82e03",
   "metadata": {},
   "outputs": [
    {
     "name": "stderr",
     "output_type": "stream",
     "text": [
      "C:\\Users\\User\\anaconda3\\lib\\site-packages\\urllib3\\connectionpool.py:1013: InsecureRequestWarning: Unverified HTTPS request is being made to host 'ww3.sinaimg.cn'. Adding certificate verification is strongly advised. See: https://urllib3.readthedocs.io/en/latest/advanced-usage.html#ssl-warnings\n",
      "  warnings.warn(\n"
     ]
    },
    {
     "name": "stdout",
     "output_type": "stream",
     "text": [
      "345\n",
      "(345, 128)\n",
      "[  0.   2.   2.   0.   0.   0.   0.   0.   9.  47.  24.   2.   6.   0.\n",
      "   0.   0.   4.   6.   4.  51.  19.   4.   0.   0.   0.   0.  76. 117.\n",
      "  12.   2.   1.   0.   9.  11.   2.   0.   0.   0.   0.   1. 138. 138.\n",
      "  16.   8.  10.   1.   0.   6.  52.  15.  13. 138. 123.  11.   0.   1.\n",
      "   0.   0.  55. 138.  35.   9.  12.   7.  15.   1.   0.   0.   0.   0.\n",
      "   9.  21. 138.  10.   0.   2.  13.   6.  23. 138.  47.   1.   1.  27.\n",
      " 138. 138.  32.  14.   0.   0.   3.  17.  30.  69. 138.  83.   0.   0.\n",
      "   0.   0.   0.   0.  15.  10.  14.   0.   1.   0.   1.   3.  41.  84.\n",
      "   3.   0.   0.   1.   7.  58.  32.   7.   0.   0.   0.   2.   4.  27.\n",
      "  91.  21.]\n"
     ]
    }
   ],
   "source": [
    "from PIL import Image\n",
    "import cv2\n",
    "import numpy as np\n",
    "import matplotlib.pyplot as plt\n",
    "#计算特征点\n",
    "img1 = getImageByUrl(\"https://ww3.sinaimg.cn/bmiddle/007INInDly1g336j2zziwj30su0g848w.jpg\")\n",
    "img1 = 255 * np.array(img1).astype('uint8')\n",
    "img1 = cv2.resize(img1,(500,500))\n",
    "gray1 = cv2.cvtColor(np.asarray(img1), cv2.COLOR_RGB2BGR)\n",
    "# cv2.imshow(\"img1\",img1)\n",
    "# cv2.waitKey(0)\n",
    "# cv2.destroyAllWindows()\n",
    "\n",
    "sift = cv2.SIFT_create()\n",
    "kp = sift.detect(gray1,None)  #搜索关键点\n",
    "img_sift = cv2.drawKeypoints(img1,kp,img1) #绘制关键点\n",
    "# cv2.imshow(\"img_sift\",img_sift)\n",
    "# cv2.waitKey(0)\n",
    "# cv2.destroyAllWindows()\n",
    "\n",
    "kp,des = sift.compute(gray1,kp)  #计算关键点 得到关键点参数\n",
    "print(len(kp))\n",
    "print (des.shape)\n",
    "print (des[0])"
   ]
  },
  {
   "cell_type": "code",
   "execution_count": 55,
   "id": "37d0802d",
   "metadata": {},
   "outputs": [
    {
     "name": "stderr",
     "output_type": "stream",
     "text": [
      "C:\\Users\\User\\anaconda3\\lib\\site-packages\\urllib3\\connectionpool.py:1013: InsecureRequestWarning: Unverified HTTPS request is being made to host 'ww3.sinaimg.cn'. Adding certificate verification is strongly advised. See: https://urllib3.readthedocs.io/en/latest/advanced-usage.html#ssl-warnings\n",
      "  warnings.warn(\n",
      "C:\\Users\\User\\anaconda3\\lib\\site-packages\\urllib3\\connectionpool.py:1013: InsecureRequestWarning: Unverified HTTPS request is being made to host 'ww2.sinaimg.cn'. Adding certificate verification is strongly advised. See: https://urllib3.readthedocs.io/en/latest/advanced-usage.html#ssl-warnings\n",
      "  warnings.warn(\n"
     ]
    },
    {
     "ename": "TypeError",
     "evalue": "Expected cv::DMatch for argument 'matches1to2'",
     "output_type": "error",
     "traceback": [
      "\u001b[1;31m---------------------------------------------------------------------------\u001b[0m",
      "\u001b[1;31mTypeError\u001b[0m                                 Traceback (most recent call last)",
      "\u001b[1;32m<ipython-input-55-c7bb12f0674b>\u001b[0m in \u001b[0;36m<module>\u001b[1;34m\u001b[0m\n\u001b[0;32m     32\u001b[0m     \u001b[1;32mif\u001b[0m \u001b[0mm\u001b[0m\u001b[1;33m.\u001b[0m\u001b[0mdistance\u001b[0m\u001b[1;33m<\u001b[0m\u001b[0mn\u001b[0m\u001b[1;33m.\u001b[0m\u001b[0mdistance\u001b[0m\u001b[1;33m*\u001b[0m\u001b[1;36m0.75\u001b[0m\u001b[1;33m:\u001b[0m\u001b[1;33m\u001b[0m\u001b[1;33m\u001b[0m\u001b[0m\n\u001b[0;32m     33\u001b[0m         \u001b[0mgood\u001b[0m\u001b[1;33m.\u001b[0m\u001b[0mappend\u001b[0m\u001b[1;33m(\u001b[0m\u001b[1;33m[\u001b[0m\u001b[0mm\u001b[0m\u001b[1;33m]\u001b[0m\u001b[1;33m)\u001b[0m\u001b[1;33m\u001b[0m\u001b[1;33m\u001b[0m\u001b[0m\n\u001b[1;32m---> 34\u001b[1;33m \u001b[0mimg4\u001b[0m \u001b[1;33m=\u001b[0m \u001b[0mcv2\u001b[0m\u001b[1;33m.\u001b[0m\u001b[0mdrawMatches\u001b[0m\u001b[1;33m(\u001b[0m\u001b[0mimg1\u001b[0m\u001b[1;33m,\u001b[0m\u001b[0mkp1\u001b[0m\u001b[1;33m,\u001b[0m\u001b[0mimg2\u001b[0m\u001b[1;33m,\u001b[0m\u001b[0mkp2\u001b[0m\u001b[1;33m,\u001b[0m\u001b[0mgood\u001b[0m\u001b[1;33m,\u001b[0m\u001b[1;32mNone\u001b[0m\u001b[1;33m,\u001b[0m\u001b[0mflags\u001b[0m\u001b[1;33m=\u001b[0m\u001b[1;36m2\u001b[0m\u001b[1;33m)\u001b[0m\u001b[1;33m\u001b[0m\u001b[1;33m\u001b[0m\u001b[0m\n\u001b[0m\u001b[0;32m     35\u001b[0m \u001b[0mcv2\u001b[0m\u001b[1;33m.\u001b[0m\u001b[0mimshow\u001b[0m\u001b[1;33m(\u001b[0m\u001b[1;34m\"img4\"\u001b[0m\u001b[1;33m,\u001b[0m\u001b[0mimg4\u001b[0m\u001b[1;33m)\u001b[0m\u001b[1;33m\u001b[0m\u001b[1;33m\u001b[0m\u001b[0m\n\u001b[0;32m     36\u001b[0m \u001b[0mcv2\u001b[0m\u001b[1;33m.\u001b[0m\u001b[0mwaitKey\u001b[0m\u001b[1;33m(\u001b[0m\u001b[1;36m0\u001b[0m\u001b[1;33m)\u001b[0m\u001b[1;33m\u001b[0m\u001b[1;33m\u001b[0m\u001b[0m\n",
      "\u001b[1;31mTypeError\u001b[0m: Expected cv::DMatch for argument 'matches1to2'"
     ]
    }
   ],
   "source": [
    "#蛮力匹配\n",
    "img1 = getImageByUrl(\"https://ww3.sinaimg.cn/bmiddle/007INInDly1g336j2zziwj30su0g848w.jpg\")\n",
    "img1 = 255 * np.array(img1).astype('uint8')\n",
    "img1 = cv2.resize(img1,(500,500))\n",
    "\n",
    "img2 = getImageByUrl(\"https://ww2.sinaimg.cn/bmiddle/007INInDly1g336j10d32j30vd0hnam6.jpg\")\n",
    "img2 = 255 * np.array(img2).astype('uint8')\n",
    "img2 = cv2.resize(img2,(500,500))\n",
    "\n",
    "# cs1 = cv2.imread(\"cs1.jpg\")\n",
    "# cs2 = cv2.imread(\"cs2.jpg\")\n",
    "# img1 = cv2.resize(cs1,(500,500))\n",
    "# img2 = cv2.resize(cs2,(500,500))\n",
    "\n",
    "kp1 = sift.detect(img1,None)\n",
    "kp2 = sift.detect(img2,None)\n",
    "kp1,des1 = sift.compute(img1,kp1,img1)\n",
    "kp2,des2 = sift.compute(img2,kp2,img2)\n",
    "\n",
    "bf = cv2.BFMatcher(crossCheck=True) #计算本图特诊算子与对比图特征算子的距离并返回最小值\n",
    "matches = bf.match(des1,des2)\n",
    "matches = sorted(matches,key=lambda x:x.distance)\n",
    "img3 = cv2.drawMatches(img1,kp1,img2,kp2,matches[:50],None,flags=2)\n",
    "cv2.imshow(\"img3\",img3)\n",
    "cv2.waitKey(0)\n",
    "cv2.destroyAllWindows()\n",
    "#一对多的匹配\n",
    "bf = cv2.BFMatcher()\n",
    "matches2 = bf.knnMatch(des1,des2,k=2)\n",
    "good = []\n",
    "for m,n in matches2:\n",
    "    if m.distance<n.distance*0.75:\n",
    "        good.append([m])\n",
    "img4 = cv2.drawMatches(img1,kp1,img2,kp2,good,None,flags=2)\n",
    "cv2.imshow(\"img4\",img4)\n",
    "cv2.waitKey(0)\n",
    "cv2.destroyAllWindows()"
   ]
  },
  {
   "cell_type": "code",
   "execution_count": 57,
   "id": "fb971955",
   "metadata": {
    "scrolled": false
   },
   "outputs": [],
   "source": [
    "# FLANN\n",
    "FLANN_INDEX_KDTREE = 1\n",
    "index_params = dict(algorithm = FLANN_INDEX_KDTREE, trees = 5)\n",
    "search_params = dict(checks=50)\n",
    "\n",
    "\n",
    "flann = cv2.FlannBasedMatcher(index_params,search_params)\n",
    "\n",
    "matches = flann.knnMatch(des1,des2,k=2)\n",
    "\n",
    "matchesMask = [[0,0] for i in range(len(matches))]\n",
    "\n",
    "for i,(m,n) in enumerate(matches):\n",
    "\n",
    "#如果第一个邻近距离比第二个邻近距离的0.7倍小，则保留\n",
    "    if m.distance < 0.7*n.distance:\n",
    "        matchesMask[i]=[1,0]\n",
    "\n",
    "\n",
    "draw_params = dict(matchColor = (0,255,0),\n",
    "                   singlePointColor = (255,0,0),\n",
    "                   matchesMask = matchesMask,\n",
    "                   flags = 0)\n",
    "\n",
    "\n",
    "img5 = cv2.drawMatchesKnn(img1,kp1,img2,kp2,matches,None,**draw_params)\n",
    "cv2.imshow(\"img5\",img5)\n",
    "cv2.waitKey(0)\n",
    "cv2.destroyAllWindows()\n",
    "# plt.imshow(img3,),plt.show()"
   ]
  },
  {
   "cell_type": "code",
   "execution_count": null,
   "id": "14ada2f8",
   "metadata": {},
   "outputs": [],
   "source": []
  }
 ],
 "metadata": {
  "kernelspec": {
   "display_name": "Python 3",
   "language": "python",
   "name": "python3"
  },
  "language_info": {
   "codemirror_mode": {
    "name": "ipython",
    "version": 3
   },
   "file_extension": ".py",
   "mimetype": "text/x-python",
   "name": "python",
   "nbconvert_exporter": "python",
   "pygments_lexer": "ipython3",
   "version": "3.8.10"
  }
 },
 "nbformat": 4,
 "nbformat_minor": 5
}
